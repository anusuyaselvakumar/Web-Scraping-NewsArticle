{
 "cells": [
  {
   "cell_type": "code",
   "execution_count": 1,
   "metadata": {},
   "outputs": [],
   "source": [
    "import requests\n",
    "from bs4 import BeautifulSoup \n",
    "import lxml\n",
    "import pandas as pd\n",
    "import openpyxl\n",
    "import re"
   ]
  },
  {
   "cell_type": "code",
   "execution_count": 2,
   "metadata": {},
   "outputs": [],
   "source": [
    "url = \"https://www.firstpost.com/tag/stable\"\n",
    "user_agent = {\n",
    "        'User-Agent' : 'Mozilla/5.0 (Windows NT 10.0; Win64; x64) AppleWebKit/537.36 (KHTML, like Gecko) Chrome/116.0.0.0 Safari/537.36'\n",
    "    }\n",
    "response = requests.get(url,headers=user_agent)\n",
    "txt = response.text\n",
    "# print(txt)"
   ]
  },
  {
   "cell_type": "code",
   "execution_count": 3,
   "metadata": {},
   "outputs": [
    {
     "name": "stdout",
     "output_type": "stream",
     "text": [
      "Stable | Latest News on Stable | Breaking Stories and Opinion Articles - Firstpost\n"
     ]
    }
   ],
   "source": [
    "soup = BeautifulSoup(response.content,'lxml')\n",
    "Title = soup.title.text\n",
    "print(Title)"
   ]
  },
  {
   "cell_type": "code",
   "execution_count": 4,
   "metadata": {},
   "outputs": [],
   "source": [
    "# soup.find_all('div',{'class':'big-thumb'})"
   ]
  },
  {
   "cell_type": "code",
   "execution_count": 5,
   "metadata": {},
   "outputs": [
    {
     "name": "stdout",
     "output_type": "stream",
     "text": [
      "First Cricket News\n",
      "\n",
      "First Cricket News\n",
      "\n",
      "Sports\n",
      "\n",
      "Politics\n",
      "\n",
      "India\n",
      "\n",
      "Entertainment\n",
      "\n",
      "Economy\n",
      "\n"
     ]
    }
   ],
   "source": [
    "for articles in soup.find_all('div',{'class':'big-thumb'}):\n",
    "    print(articles.find('a',{'class':'category-name'}).text)\n",
    "    print(\"\")\n",
    "    # category_name = articles.find('a',{'class':'category-name'}).text\n",
    "    "
   ]
  },
  {
   "cell_type": "code",
   "execution_count": 6,
   "metadata": {},
   "outputs": [
    {
     "name": "stdout",
     "output_type": "stream",
     "text": [
      " Former Australian wicket-keeper Rod Marsh 'critical but stable', flown to Adelaide \n",
      "\n",
      " Women's World Cup 2022: Smriti Mandhana stable after being hit on head but under observation \n",
      "\n",
      " Football legend Pele in hospital with colon tumor; he is stable and may be released in next few days \n",
      "\n",
      " TMC MP Tapas Pal stable, still in ICCU \n",
      "\n",
      " Modi wave: Rupee rallies to 11-month high \n",
      "\n",
      " Actress Suchitra Sen still on ventilation, but stable \n",
      "\n",
      " Why Fitch's revised 'stable' outlook on India is a breather for FM \n",
      "\n"
     ]
    }
   ],
   "source": [
    "for articles in soup.find_all('div',{'class':'big-thumb'}):\n",
    "    print(re.sub(\"\\s+\",\" \",articles.find('h3',{'class':'main-title'}).text))\n",
    "    print(\"\")\n",
    "    # title = re.sub(\"\\s+\",\" \",articles.find('h3',{'class':'main-title'}).text)"
   ]
  },
  {
   "cell_type": "code",
   "execution_count": 7,
   "metadata": {},
   "outputs": [
    {
     "name": "stdout",
     "output_type": "stream",
     "text": [
      " The 74-year-old had suffered the heart attack on the way to a charity event at Bundaberg in Queensland on February 24. \n",
      "\n",
      " Mandhana was forced to retire hurt after taking a blow to her head during the team's first Women's World Cup warm-up fixture against South Africa here on Sunday, which India won by two runs. \n",
      "\n",
      " Pele's assistant Pepito Fornos told The Associated Press that Pele is having chemotherapy sessions to treat the tumor that was found during routine exams at the end of August \n",
      "\n",
      " The condition of Trinamool Congress MP Tapas Paul, who was yesterday admitted in a super-speciality hospital after suffering a brain stroke, was stated to be stable. \n",
      "\n",
      " Stable govt at the Centre made the rupee rally to an 11-month high of 58.71 against the dollar on persistent selling of the US currency by banks, exporters on hopes of higher foreign capital inflows \n",
      "\n",
      " \"Mrs Suchitra Sen's condition has stabilised to some extent. Her oxygen saturation although fluctuating, is maintained at a reasonable level,\" said doctors of Belle Vue Clinic. \n",
      "\n",
      " Fitch Ratings has revised India's outlook to stable from negative on measures taken by the government to contain the budget deficit. \n",
      "\n"
     ]
    }
   ],
   "source": [
    "for articles in soup.find_all('div',{'class':'big-thumb'}):\n",
    "    print(re.sub(\"\\s+\",\" \",articles.find('p',{'class':'copy'}).text))\n",
    "    print(\"\")\n",
    "    # title = re.sub(\"\\s+\",\" \",articles.find('p',{'class':'copy'}).text)"
   ]
  },
  {
   "cell_type": "code",
   "execution_count": 8,
   "metadata": {},
   "outputs": [
    {
     "name": "stdout",
     "output_type": "stream",
     "text": [
      "[{'Category': 'First Cricket News', 'Title': \" Former Australian wicket-keeper Rod Marsh 'critical but stable', flown to Adelaide \", 'Content': ' The 74-year-old had suffered the heart attack on the way to a charity event at Bundaberg in Queensland on February 24. '}, {'Category': 'First Cricket News', 'Title': \" Women's World Cup 2022: Smriti Mandhana stable after being hit on head but under observation \", 'Content': \" Mandhana was forced to retire hurt after taking a blow to her head during the team's first Women's World Cup warm-up fixture against South Africa here on Sunday, which India won by two runs. \"}, {'Category': 'Sports', 'Title': ' Football legend Pele in hospital with colon tumor; he is stable and may be released in next few days ', 'Content': \" Pele's assistant Pepito Fornos told The Associated Press that Pele is having chemotherapy sessions to treat the tumor that was found during routine exams at the end of August \"}, {'Category': 'Politics', 'Title': ' TMC MP Tapas Pal stable, still in ICCU ', 'Content': ' The condition of Trinamool Congress MP Tapas Paul, who was yesterday admitted in a super-speciality hospital after suffering a brain stroke, was stated to be stable. '}, {'Category': 'India', 'Title': ' Modi wave: Rupee rallies to 11-month high ', 'Content': ' Stable govt at the Centre made the rupee rally to an 11-month high of 58.71 against the dollar on persistent selling of the US currency by banks, exporters on hopes of higher foreign capital inflows '}, {'Category': 'Entertainment', 'Title': ' Actress Suchitra Sen still on ventilation, but stable ', 'Content': ' \"Mrs Suchitra Sen\\'s condition has stabilised to some extent. Her oxygen saturation although fluctuating, is maintained at a reasonable level,\" said doctors of Belle Vue Clinic. '}, {'Category': 'Economy', 'Title': \" Why Fitch's revised 'stable' outlook on India is a breather for FM \", 'Content': \" Fitch Ratings has revised India's outlook to stable from negative on measures taken by the government to contain the budget deficit. \"}]\n"
     ]
    }
   ],
   "source": [
    "\n",
    "articles_list = []\n",
    "\n",
    "for articles in soup.find_all('div',{'class':'big-thumb'}):\n",
    "    category_name = articles.find('a',{'class':'category-name'}).text\n",
    "    title = re.sub(\"\\s+\",\" \",articles.find('h3',{'class':'main-title'}).text)\n",
    "    content = re.sub(\"\\s+\",\" \",articles.find('p',{'class':'copy'}).text)\n",
    "\n",
    "\n",
    "    data = {\n",
    "        'Category' : category_name,\n",
    "        'Title' : title,\n",
    "        'Content' : content\n",
    "    }\n",
    "    \n",
    "    articles_list.append(data)\n",
    "    \n",
    "print(articles_list)\n",
    "\n",
    "df = pd.DataFrame(articles_list)\n",
    "df.to_excel('Articles.xlsx', index=False)  \n",
    "\n"
   ]
  }
 ],
 "metadata": {
  "kernelspec": {
   "display_name": "NewsArticle",
   "language": "python",
   "name": "python3"
  },
  "language_info": {
   "codemirror_mode": {
    "name": "ipython",
    "version": 3
   },
   "file_extension": ".py",
   "mimetype": "text/x-python",
   "name": "python",
   "nbconvert_exporter": "python",
   "pygments_lexer": "ipython3",
   "version": "3.11.4"
  },
  "orig_nbformat": 4
 },
 "nbformat": 4,
 "nbformat_minor": 2
}
